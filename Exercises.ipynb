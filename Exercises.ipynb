{
 "cells": [
  {
   "cell_type": "code",
   "execution_count": 1,
   "id": "3b928598",
   "metadata": {},
   "outputs": [],
   "source": [
    "from nn import nn, preprocess, io"
   ]
  },
  {
   "cell_type": "code",
   "execution_count": 2,
   "id": "9b922de3",
   "metadata": {},
   "outputs": [],
   "source": [
    "import numpy as np\n",
    "import matplotlib.pyplot as plt\n",
    "from sklearn.datasets import load_digits\n",
    "from sklearn.model_selection import train_test_split"
   ]
  },
  {
   "cell_type": "markdown",
   "id": "7405c24c",
   "metadata": {},
   "source": [
    "# MNIST Autoencoder"
   ]
  },
  {
   "cell_type": "code",
   "execution_count": 3,
   "id": "d3cae590",
   "metadata": {},
   "outputs": [],
   "source": [
    "# instantiate NN\n",
    "layers_ae = [{'input_dim': 64, 'output_dim': 16, 'activation': 'sigmoid'}, \n",
    "          {'input_dim': 16, 'output_dim': 64, 'activation': 'relu'}]\n",
    "epochs = 10\n",
    "ae = nn.NeuralNetwork(layers_ae, lr = 0.01, seed = 0, batch_size = 10, epochs = epochs, loss_function = \"MSE\")"
   ]
  },
  {
   "cell_type": "code",
   "execution_count": 4,
   "id": "2c617e69",
   "metadata": {},
   "outputs": [],
   "source": [
    "# load data\n",
    "digits = load_digits()\n",
    "X = digits['data']\n",
    "y = digits['target']\n",
    "X_train, X_test, y_train, y_test = train_test_split(X, y, test_size=0.33, random_state=42)"
   ]
  },
  {
   "cell_type": "code",
   "execution_count": 5,
   "id": "db97b357",
   "metadata": {},
   "outputs": [
    {
     "name": "stdout",
     "output_type": "stream",
     "text": [
      "Epoch 0\n",
      "Epoch 5\n"
     ]
    }
   ],
   "source": [
    "# fit\n",
    "train_loss, val_loss = ae.fit(X_train, X_train, X_test, X_test)"
   ]
  },
  {
   "cell_type": "code",
   "execution_count": 6,
   "id": "88ce5db8",
   "metadata": {
    "scrolled": true
   },
   "outputs": [
    {
     "data": {
      "text/plain": [
       "Text(0.5, 1.0, 'Validation loss')"
      ]
     },
     "execution_count": 6,
     "metadata": {},
     "output_type": "execute_result"
    },
    {
     "data": {
      "image/png": "[encoded data removed]",
      "text/plain": [
       "<Figure size 864x288 with 2 Axes>"
      ]
     },
     "metadata": {
      "needs_background": "light"
     },
     "output_type": "display_data"
    }
   ],
   "source": [
    "# plot losses\n",
    "fig, axs = plt.subplots(1, 2, figsize=(12,4))\n",
    "axs[0].plot(range(epochs+1), train_loss)\n",
    "axs[0].set_title('Train loss')\n",
    "axs[1].plot(range(epochs+1), val_loss)\n",
    "axs[1].set_title('Validation loss')"
   ]
  },
  {
   "cell_type": "code",
   "execution_count": 7,
   "id": "05693c00",
   "metadata": {},
   "outputs": [
    {
     "data": {
      "text/plain": [
       "<matplotlib.image.AxesImage at 0x7fefd9bf9ac0>"
      ]
     },
     "execution_count": 7,
     "metadata": {},
     "output_type": "execute_result"
    },
    {
     "data": {
      "image/png": "[encoded data removed]",
      "text/plain": [
       "<Figure size 864x288 with 2 Axes>"
      ]
     },
     "metadata": {
      "needs_background": "light"
     },
     "output_type": "display_data"
    }
   ],
   "source": [
    "# visualize performance\n",
    "out = ae.predict(X_train)\n",
    "fig, axs = plt.subplots(1, 2, figsize=(12,4))\n",
    "plt.gray()\n",
    "axs[0].matshow(out[0].reshape((8,8)))\n",
    "axs[1].matshow(X_train[0].reshape((8,8)))"
   ]
  },
  {
   "cell_type": "markdown",
   "id": "a6015a66",
   "metadata": {},
   "source": [
    "^ wow that's pretty bad"
   ]
  },
  {
   "cell_type": "code",
   "execution_count": 8,
   "id": "a42ca7de",
   "metadata": {},
   "outputs": [
    {
     "data": {
      "text/plain": [
       "18.97876189723451"
      ]
     },
     "execution_count": 8,
     "metadata": {},
     "output_type": "execute_result"
    }
   ],
   "source": [
    "# Quantify reconstruction performance\n",
    "ae._mean_squared_error(out, X_train)"
   ]
  },
  {
   "cell_type": "markdown",
   "id": "d90af8a1",
   "metadata": {},
   "source": [
    "I chose MSE loss becuase this task involves predicting the numeric, continuous brightness of pixels, rather than binary classfication. Likewise, a relu output layer lends itself more to predicting a continuous numeric variable than sigmoid does. However, I found that a sigmoid hidden layer outperformed a relu hidden layer in terms of the loss on the validation data after an equal number of epochs. Batch size, learning rate, and epoch number were also optimized with a brief search. "
   ]
  },
  {
   "cell_type": "markdown",
   "id": "931e95a5",
   "metadata": {},
   "source": [
    "# Transcription Factor Classifier"
   ]
  },
  {
   "cell_type": "code",
   "execution_count": 9,
   "id": "a71eba0a",
   "metadata": {},
   "outputs": [],
   "source": [
    "positives = io.read_text_file(\"./data/rap1-lieb-positives.txt\")\n",
    "negatives = io.read_fasta_file(\"./data/yeast-upstream-1k-negative.fa\")"
   ]
  },
  {
   "cell_type": "code",
   "execution_count": 10,
   "id": "b646bfc1",
   "metadata": {},
   "outputs": [],
   "source": [
    "# split the negative sequences into 17-mers\n",
    "target_length = len(positives[0])\n",
    "negatives_split = []\n",
    "for seq in negatives:\n",
    "    split = []\n",
    "    for i in range(int(len(seq)/target_length)):\n",
    "        split.append(seq[i*target_length:(i+1)*target_length])\n",
    "    negatives_split += split"
   ]
  },
  {
   "cell_type": "code",
   "execution_count": 11,
   "id": "70452f8d",
   "metadata": {},
   "outputs": [],
   "source": [
    "X = positives + negatives_split\n",
    "y = np.concatenate([np.ones(len(positives)), np.zeros(len(negatives_split))]).tolist()"
   ]
  },
  {
   "cell_type": "code",
   "execution_count": 12,
   "id": "1ef9fe87",
   "metadata": {},
   "outputs": [],
   "source": [
    "X, y = preprocess.sample_seqs(X, y)"
   ]
  },
  {
   "cell_type": "code",
   "execution_count": 13,
   "id": "cb88a560",
   "metadata": {},
   "outputs": [],
   "source": [
    "X = preprocess.one_hot_encode_seqs(X)"
   ]
  },
  {
   "cell_type": "code",
   "execution_count": 14,
   "id": "e633896a",
   "metadata": {},
   "outputs": [],
   "source": [
    "X_train, X_test, y_train, y_test = train_test_split(X, y, test_size=0.33, random_state=42)"
   ]
  },
  {
   "cell_type": "code",
   "execution_count": 15,
   "id": "fe5bcb2d",
   "metadata": {},
   "outputs": [],
   "source": [
    "y_train = np.array(y_train)\n",
    "y_test = np.array(y_test)"
   ]
  },
  {
   "cell_type": "code",
   "execution_count": 16,
   "id": "f815bf3b",
   "metadata": {},
   "outputs": [],
   "source": [
    "layers_clf = [{'input_dim': 68, 'output_dim': 34, 'activation': 'relu'},\n",
    "              {'input_dim': 34, 'output_dim': 1, 'activation': 'sigmoid'},]\n",
    "epochs = 10\n",
    "clf = nn.NeuralNetwork(layers_clf, lr = 0.01, seed = 0, batch_size = 1000, epochs = epochs, loss_function = \"BCE\")"
   ]
  },
  {
   "cell_type": "code",
   "execution_count": 17,
   "id": "80e3d35a",
   "metadata": {},
   "outputs": [
    {
     "name": "stdout",
     "output_type": "stream",
     "text": [
      "Epoch 0\n"
     ]
    },
    {
     "name": "stderr",
     "output_type": "stream",
     "text": [
      "/Users/thomasmazumder/Documents/bmi203/project7/nn/nn.py:357: RuntimeWarning: overflow encountered in exp\n",
      "  return 1/(1 + np.exp(-Z))\n"
     ]
    },
    {
     "name": "stdout",
     "output_type": "stream",
     "text": [
      "Epoch 5\n"
     ]
    }
   ],
   "source": [
    "train_loss, val_loss = clf.fit(X_train, y_train, X_test, y_test)"
   ]
  },
  {
   "cell_type": "code",
   "execution_count": 19,
   "id": "eff44f6d",
   "metadata": {
    "scrolled": true
   },
   "outputs": [
    {
     "data": {
      "text/plain": [
       "Text(0.5, 1.0, 'Validation loss')"
      ]
     },
     "execution_count": 19,
     "metadata": {},
     "output_type": "execute_result"
    },
    {
     "data": {
      "image/png": "[encoded data removed]",
      "text/plain": [
       "<Figure size 864x288 with 2 Axes>"
      ]
     },
     "metadata": {
      "needs_background": "light"
     },
     "output_type": "display_data"
    }
   ],
   "source": [
    "# plot losses\n",
    "fig, axs = plt.subplots(1, 2, figsize=(12,4))\n",
    "axs[0].plot(range(epochs+1), train_loss)\n",
    "axs[0].set_title('Train loss')\n",
    "axs[1].plot(range(epochs+1), val_loss)\n",
    "axs[1].set_title('Validation loss')"
   ]
  },
  {
   "cell_type": "code",
   "execution_count": 22,
   "id": "efd45376",
   "metadata": {},
   "outputs": [],
   "source": [
    "val_pred = clf.predict(X_test)"
   ]
  },
  {
   "cell_type": "code",
   "execution_count": 27,
   "id": "57295804",
   "metadata": {},
   "outputs": [
    {
     "name": "stdout",
     "output_type": "stream",
     "text": [
      "Validation accuracy: 0.9125866900319896\n"
     ]
    }
   ],
   "source": [
    "val_pred = clf.predict(X_test)\n",
    "print(f'Validation accuracy: {np.sum(np.isclose(val_pred.flatten(), y_test))/len(y_test)}')"
   ]
  },
  {
   "cell_type": "markdown",
   "id": "45cc2c99",
   "metadata": {},
   "source": [
    "I chose BCE loss because BCE is well-suited to binary classification. I chose a sigmoid activation for the output layer because sigmoids are well-suited to predicting a binary label. I used two layers in total because the performance seemed pretty satisfactory. Likewise, the learning rate and number of epochs were set at 0.01 and 1000, respectively, because the loss and accuracy at these hyperparameters seemed acceptable."
   ]
  },
  {
   "cell_type": "code",
   "execution_count": null,
   "id": "5b6fe47b",
   "metadata": {},
   "outputs": [],
   "source": []
  }
 ],
 "metadata": {
  "kernelspec": {
   "display_name": "Python 3 (ipykernel)",
   "language": "python",
   "name": "python3"
  },
  "language_info": {
   "codemirror_mode": {
    "name": "ipython",
    "version": 3
   },
   "file_extension": ".py",
   "mimetype": "text/x-python",
   "name": "python",
   "nbconvert_exporter": "python",
   "pygments_lexer": "ipython3",
   "version": "3.8.12"
  }
 },
 "nbformat": 4,
 "nbformat_minor": 5
}
