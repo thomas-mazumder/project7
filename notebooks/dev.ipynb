{
 "cells": [
  {
   "cell_type": "code",
   "execution_count": 2,
   "id": "1dd137d1",
   "metadata": {},
   "outputs": [],
   "source": [
    "# Importing Dependencies\n",
    "import numpy as np\n",
    "from typing import List, Dict, Tuple, Union\n",
    "from numpy.typing import ArrayLike"
   ]
  },
  {
   "cell_type": "code",
   "execution_count": 589,
   "id": "3faaef83",
   "metadata": {},
   "outputs": [],
   "source": [
    "class NeuralNetwork:\n",
    "    \"\"\"\n",
    "    This is a neural network class that generates a fully connected Neural Network.\n",
    "\n",
    "    Parameters:\n",
    "        nn_arch: List[Dict[str, float]]\n",
    "            This list of dictionaries describes the fully connected layers of the artificial neural network.\n",
    "            e.g. [{'input_dim': 64, 'output_dim': 32, 'activation': 'relu'}, {'input_dim': 32, 'output_dim': 8, 'activation:': 'sigmoid'}] will generate a\n",
    "            2 layer deep fully connected network with an input dimension of 64, a 32 dimension hidden layer\n",
    "            and an 8 dimensional output.\n",
    "        lr: float\n",
    "            Learning Rate (alpha).\n",
    "        seed: int\n",
    "            Random seed to ensure reproducibility.\n",
    "        batch_size: int\n",
    "            Size of mini-batches used for training.\n",
    "        epochs: int\n",
    "            Max number of epochs for training.\n",
    "        loss_function: str\n",
    "            Name of loss function.\n",
    "\n",
    "    Attributes:\n",
    "        arch: list of dicts\n",
    "            This list of dictionaries describing the fully connected layers of the artificial neural network.\n",
    "    \"\"\"\n",
    "    def __init__(self,\n",
    "                 nn_arch: List[Dict[str, Union[int, str]]],\n",
    "                 lr: float,\n",
    "                 seed: int,\n",
    "                 batch_size: int,\n",
    "                 epochs: int,\n",
    "                 loss_function: str):\n",
    "        # Saving architecture\n",
    "        self.arch = nn_arch\n",
    "        # Saving hyperparameters\n",
    "        self._lr = lr\n",
    "        self._seed = seed\n",
    "        self._epochs = epochs\n",
    "        self._loss_func = loss_function\n",
    "        self._batch_size = batch_size\n",
    "        # Initializing the parameter dictionary for use in training\n",
    "        self._param_dict = self._init_params()\n",
    "\n",
    "    def _init_params(self) -> Dict[str, ArrayLike]:\n",
    "        \"\"\"\n",
    "        DO NOT MODIFY THIS METHOD!! IT IS ALREADY COMPLETE!!\n",
    "\n",
    "        This method generates the parameter matrices for all layers of\n",
    "        the neural network. This function returns the param_dict after\n",
    "        initialization.\n",
    "\n",
    "        Returns:\n",
    "            param_dict: Dict[str, ArrayLike]\n",
    "                Dictionary of parameters in neural network.\n",
    "        \"\"\"\n",
    "        # seeding numpy random\n",
    "        np.random.seed(self._seed)\n",
    "        # defining parameter dictionary\n",
    "        param_dict = {}\n",
    "        # initializing all layers in the NN\n",
    "        for idx, layer in enumerate(self.arch):\n",
    "            layer_idx = idx + 1\n",
    "            input_dim = layer['input_dim']\n",
    "            output_dim = layer['output_dim']\n",
    "            # initializing weight matrices\n",
    "            param_dict['W' + str(layer_idx)] = np.random.randn(output_dim, input_dim) * 0.1\n",
    "            # initializing bias matrices\n",
    "            param_dict['b' + str(layer_idx)] = np.random.randn(output_dim, 1) * 0.1\n",
    "        return param_dict\n",
    "\n",
    "    def _single_forward(self,\n",
    "                        W_curr: ArrayLike,\n",
    "                        b_curr: ArrayLike,\n",
    "                        A_prev: ArrayLike,\n",
    "                        activation: str) -> Tuple[ArrayLike, ArrayLike]:\n",
    "        \"\"\"\n",
    "        This method is used for a single forward pass on a single layer.\n",
    "\n",
    "        Args:\n",
    "            W_curr: ArrayLike\n",
    "                Current layer weight matrix.\n",
    "            b_curr: ArrayLike\n",
    "                Current layer bias matrix.\n",
    "            A_prev: ArrayLike\n",
    "                Previous layer activation matrix.\n",
    "            activation: str\n",
    "                Name of activation function for current layer.\n",
    "\n",
    "        Returns:\n",
    "            A_curr: ArrayLike\n",
    "                Current layer activation matrix.\n",
    "            Z_curr: ArrayLike\n",
    "                Current layer linear transformed matrix.\n",
    "        \"\"\"\n",
    "        Z_curr = np.transpose(np.matmul(W_curr, np.transpose(A_prev)))\n",
    "        #print(f'_single_forward: b_curr is {b_curr.shape}')\n",
    "        Z_curr = Z_curr + b_curr.flatten()\n",
    "        if activation == \"sigmoid\":\n",
    "            A_curr = self._sigmoid(Z_curr) \n",
    "        elif activation == \"relu\":\n",
    "            A_curr = self._relu(Z_curr)\n",
    "        return A_curr, Z_curr\n",
    "\n",
    "    def forward(self, X: ArrayLike) -> Tuple[ArrayLike, Dict[str, ArrayLike]]:\n",
    "        \"\"\"\n",
    "        This method is responsible for one forward pass of the entire neural network.\n",
    "\n",
    "        Args:\n",
    "            X: ArrayLike\n",
    "                Input matrix with shape [batch_size, features].\n",
    "\n",
    "        Returns:\n",
    "            output: ArrayLike\n",
    "                Output of forward pass.\n",
    "            cache: Dict[str, ArrayLike]:\n",
    "                Dictionary storing Z and A matrices from `_single_forward` for use in backprop.\n",
    "        \"\"\"\n",
    "        A_prev = X\n",
    "        cache = {'0': (A_prev,)}\n",
    "        for idx, layer in enumerate(self.arch):\n",
    "            W_curr = self._param_dict['W' + str(idx + 1)]\n",
    "            b_curr = self._param_dict['b' + str(idx + 1)]\n",
    "            #print(f'forward: layer is {layer}')\n",
    "            #print(f'forward: b_curr is {b_curr.shape}')\n",
    "            activation = layer[\"activation\"]\n",
    "            A_prev = cache[str(idx)][0]\n",
    "            cache[str(idx + 1)] = self._single_forward(W_curr, b_curr, A_prev, activation)\n",
    "        n_layers = len(self.arch)\n",
    "        output = cache[str(n_layers)][0]\n",
    "        return output, cache\n",
    "\n",
    "    def _single_backprop(self,\n",
    "                         W_curr: ArrayLike,\n",
    "                         b_curr: ArrayLike,\n",
    "                         Z_curr: ArrayLike,\n",
    "                         A_prev: ArrayLike,\n",
    "                         dA_curr: ArrayLike,\n",
    "                         activation_curr: str) -> Tuple[ArrayLike, ArrayLike, ArrayLike]:\n",
    "        \"\"\"\n",
    "        This method is used for a single backprop pass on a single layer.\n",
    "\n",
    "        Args:\n",
    "            W_curr: ArrayLike\n",
    "                Current layer weight matrix.\n",
    "            b_curr: ArrayLike\n",
    "                Current layer bias matrix.\n",
    "            Z_curr: ArrayLike\n",
    "                Current layer linear transform matrix.\n",
    "            A_prev: ArrayLike\n",
    "                Previous layer activation matrix.\n",
    "            dA_curr: ArrayLike\n",
    "                Partial derivative of loss function with respect to current layer activation matrix.\n",
    "            activation_curr: str\n",
    "                Name of activation function of layer.\n",
    "\n",
    "        Returns:\n",
    "            dA_prev: ArrayLike\n",
    "                Partial derivative of loss function with respect to previous layer activation matrix.\n",
    "            dW_curr: ArrayLike\n",
    "                Partial derivative of loss function with respect to current layer weight matrix.\n",
    "            db_curr: ArrayLike\n",
    "                Partial derivative of loss function with respect to current layer bias matrix.\n",
    "        \"\"\"\n",
    "        \n",
    "        # calculate the partial derivative of the current activation matrix\n",
    "        # with respect to the current linear output matrix (\"Z\")\n",
    "        \n",
    "        if activation_curr == \"relu\":\n",
    "            dJ_dZcurr = self._relu_backprop(dA_curr, Z_curr)\n",
    "        elif activation_curr == \"sigmoid\":\n",
    "            dJ_dZcurr = self._sigmoid_backprop(dA_curr, Z_curr)\n",
    "        \n",
    "        # calculate the partial derivate of the loss function with\n",
    "        # respect to the previous activation layer, dJ_dAprev \n",
    "        dZcurr_dAprev = W_curr\n",
    "        dJ_dAprev = np.array([np.matmul(dJ_dZcurr[i,:], dZcurr_dAprev) for i in range(dJ_dZcurr.shape[0])])\n",
    "        \n",
    "        # calculate the partial derivate of the loss function with\n",
    "        # respect to the bias of the current layer, dJ_dbcurr \n",
    "        dJ_dbcurr = np.sum(dJ_dZcurr, axis = 0) # (64,)\n",
    "        #print(f'_single_backprop: dJ_dbcurr is {dJ_dbcurr.shape}')\n",
    "        \n",
    "        # calculate the partial derivative of the loss function with\n",
    "        # respect to the weights of the current layer, dJ_dWcurr \n",
    "        dZcurr_dWcurr = np.tile(A_prev , (W_curr.shape[0], 1, 1)) # (64, 10, 16)\n",
    "        dJ_dZcurr = np.tile(dJ_dZcurr, (W_curr.shape[1], 1, 1)) # (16, 10, 64)\n",
    "        dJ_dZcurr = np.moveaxis(dJ_dZcurr, [2,0],[0,2]) # (64, 10, 16)\n",
    "        dJ_dWcurr = np.sum(dJ_dZcurr * dZcurr_dWcurr, axis = 1) # (64, 16)\n",
    "        \n",
    "        return dJ_dWcurr, dJ_dbcurr, dJ_dAprev\n",
    "        \n",
    "                \n",
    "    def backprop(self, y: ArrayLike, y_hat: ArrayLike, cache: Dict[str, ArrayLike]):\n",
    "        \"\"\"\n",
    "        This method is responsible for the backprop of the whole fully connected neural network.\n",
    "\n",
    "        Args:\n",
    "            y (array-like):\n",
    "                Ground truth labels.\n",
    "            y_hat: ArrayLike\n",
    "                Predicted output values.\n",
    "            cache: Dict[str, ArrayLike]\n",
    "                Dictionary containing the information about the\n",
    "                most recent forward pass, specifically A and Z matrices.\n",
    "\n",
    "        Returns:\n",
    "            grad_dict: Dict[str, ArrayLike]\n",
    "                Dictionary containing the gradient information from this pass of backprop.\n",
    "        \"\"\"\n",
    "        n_layers = len(layers)\n",
    "        grad_dict = dict()\n",
    "        \n",
    "        if self._loss_func == \"BCE\":\n",
    "            dJ_dAcurr = self._binary_cross_entropy_backprop(y, y_hat)\n",
    "        elif self._loss_func == \"MSE\":\n",
    "            dJ_dAcurr = self._mean_squared_error_backprop(y, y_hat)\n",
    "        \n",
    "        for idx, layer in enumerate(reversed(layers)):\n",
    "            W_curr = self._param_dict[\"W\" + str(n_layers - idx)]\n",
    "            b_curr = self._param_dict[\"b\" + str(n_layers - idx)]\n",
    "            Z_curr = cache[str(n_layers - idx)][1]\n",
    "            A_prev = cache[str(n_layers - idx - 1)][0]    \n",
    "            dA_curr = dJ_dAcurr\n",
    "            activation_curr = layer[\"activation\"]\n",
    "            dJ_dWcurr, dJ_dbcurr, dJ_dAprev = self._single_backprop(W_curr, b_curr, Z_curr, \n",
    "                                                               A_prev, dA_curr, activation_curr)\n",
    "            grad_dict[\"W\" + str(n_layers - idx)] = dJ_dWcurr\n",
    "            grad_dict[\"b\" + str(n_layers - idx)] = dJ_dbcurr\n",
    "            dJ_dAcurr = dJ_dAprev\n",
    "            \n",
    "        return grad_dict\n",
    "\n",
    "    def _update_params(self, grad_dict: Dict[str, ArrayLike]):\n",
    "        \"\"\"\n",
    "        This function updates the parameters in the neural network after backprop. This function\n",
    "        only modifies internal attributes and thus does not return anything\n",
    "\n",
    "        Args:\n",
    "            grad_dict: Dict[str, ArrayLike]\n",
    "                Dictionary containing the gradient information from most recent round of backprop.\n",
    "\n",
    "        Returns:\n",
    "            None\n",
    "        \"\"\"\n",
    "        for idx in range(1, len(self.arch) + 1):\n",
    "            self._param_dict[\"W\" + str(idx)] = self._param_dict[\"W\" + str(idx)] - self._lr * grad_dict[\"W\" + str(idx)]\n",
    "            self._param_dict[\"b\" + str(idx)] = self._param_dict[\"b\" + str(idx)].flatten() - self._lr * grad_dict[\"b\" + str(idx)]\n",
    "            \n",
    "    def fit(self,\n",
    "            X_train: ArrayLike,\n",
    "            y_train: ArrayLike,\n",
    "            X_val: ArrayLike,\n",
    "            y_val: ArrayLike) -> Tuple[List[float], List[float]]:\n",
    "        \"\"\"\n",
    "        This function trains the neural network via training for the number of epochs defined at\n",
    "        the initialization of this class instance.\n",
    "        Args:\n",
    "            X_train: ArrayLike\n",
    "                Input features of training set.\n",
    "            y_train: ArrayLike\n",
    "                Labels for training set.\n",
    "            X_val: ArrayLike\n",
    "                Input features of validation set.\n",
    "            y_val: ArrayLike\n",
    "                Labels for validation set.\n",
    "\n",
    "        Returns:\n",
    "            per_epoch_loss_train: List[float]\n",
    "                List of per epoch loss for training set.\n",
    "            per_epoch_loss_val: List[float]\n",
    "                List of per epoch loss for validation set.\n",
    "        \"\"\"\n",
    "        per_epoch_loss_train = []\n",
    "        per_epoch_loss_val = []\n",
    "        for t in range(self._epochs):\n",
    "            this_epoch_loss_train = []\n",
    "            n_batches = np.ceil(len(y_train)/self._batch_size)\n",
    "            shuffler = np.random.permutation(X_train.shape[0])\n",
    "            X_train = X_train[shuffler,:]\n",
    "            y_train = y_train[shuffler]\n",
    "            count = 0\n",
    "            # train the network in batches\n",
    "            for X_train_batch, y_train_batch in zip(np.array_split(X_train, n_batches), np.array_split(y_train, n_batches)):\n",
    "                output, cache = self.forward(X_train_batch)\n",
    "                if self._loss_func == \"BCE\":\n",
    "                    this_epoch_loss_train.append(self._binary_cross_entropy(y_train_batch, output))\n",
    "                elif self._loss_func == \"MSE\":\n",
    "                    this_epoch_loss_train.append(self._mean_squared_error(y_train_batch, output))\n",
    "                grad_dict = self.backprop(y_train_batch, output, cache)\n",
    "                self._update_params(grad_dict)\n",
    "                count += 1\n",
    "            per_epoch_loss_train.append(np.mean(this_epoch_loss_train))\n",
    "            \n",
    "            # compute validation loss\n",
    "            output, _ = self.forward(X_val)\n",
    "            if self._loss_func == \"BCE\":\n",
    "                per_epoch_loss_val.append(self._binary_cross_entropy(y_val, output))\n",
    "            elif self._loss_func == \"MSE\":\n",
    "                per_epoch_loss_val.append(self._mean_squared_error(y_val, output))\n",
    "            \n",
    "                \n",
    "            \n",
    "        return per_epoch_loss_train, per_epoch_loss_val\n",
    "                \n",
    "\n",
    "    def predict(self, X: ArrayLike) -> ArrayLike:\n",
    "        \"\"\"\n",
    "        This function returns the prediction of the neural network model.\n",
    "\n",
    "        Args:\n",
    "            X: ArrayLike\n",
    "                Input data for prediction.\n",
    "\n",
    "        Returns:\n",
    "            y_hat: ArrayLike\n",
    "                Prediction from the model.\n",
    "        \"\"\"\n",
    "        output, _ = self.forward(X)\n",
    "        return output\n",
    "\n",
    "    def _sigmoid(self, Z: ArrayLike) -> ArrayLike:\n",
    "        \"\"\"\n",
    "        Sigmoid activation function.\n",
    "\n",
    "        Args:\n",
    "            Z: ArrayLike\n",
    "                Output of layer linear transform.\n",
    "\n",
    "        Returns:\n",
    "            nl_transform: ArrayLike\n",
    "                Activation function output.\n",
    "        \"\"\"\n",
    "        return 1/(1 + np.exp(-Z))\n",
    "\n",
    "    def _relu(self, Z: ArrayLike) -> ArrayLike:\n",
    "        \"\"\"\n",
    "        ReLU activation function.\n",
    "\n",
    "        Args:\n",
    "            Z: ArrayLike\n",
    "                Output of layer linear transform.\n",
    "\n",
    "        Returns:\n",
    "            nl_transform: ArrayLike\n",
    "                Activation function output.\n",
    "        \"\"\"\n",
    "        Z[Z < 0] = 0\n",
    "        return Z\n",
    "\n",
    "    def _sigmoid_backprop(self, dA: ArrayLike, Z: ArrayLike):\n",
    "        \"\"\"\n",
    "        Sigmoid derivative for backprop.\n",
    "\n",
    "        Args:\n",
    "            dA: ArrayLike\n",
    "                Partial derivative of previous layer activation matrix.\n",
    "            Z: ArrayLike\n",
    "                Output of layer linear transform.\n",
    "\n",
    "        Returns:\n",
    "            dJ_dZcurr: ArrayLike\n",
    "                Partial derivative of current layer Z matrix.\n",
    "        \"\"\"\n",
    "        dAcurr_dZcurr = self._sigmoid(Z) * (1 - self._sigmoid(Z))\n",
    "        dJ_dZcurr = dA * dAcurr_dZcurr\n",
    "        \n",
    "        return dJ_dZcurr\n",
    "\n",
    "    def _relu_backprop(self, dA: ArrayLike, Z: ArrayLike) -> ArrayLike:\n",
    "        \"\"\"\n",
    "        ReLU derivative for backprop.\n",
    "\n",
    "        Args:\n",
    "            dA: ArrayLike\n",
    "                Partial derivative of previous layer activation matrix.\n",
    "            Z: ArrayLike\n",
    "                Output of layer linear transform.\n",
    "\n",
    "        Returns:\n",
    "            dJ_dZcurr: ArrayLike\n",
    "                Partial derivative of current layer Z matrix.\n",
    "        \"\"\"\n",
    "        dAcurr_dZcurr = Z\n",
    "        dAcurr_dZcurr[Z >= 0] = 1\n",
    "        dAcurr_dZcurr[Z < 0] = 0\n",
    "        dJ_dZcurr = dA * dAcurr_dZcurr\n",
    "        \n",
    "        return dJ_dZcurr\n",
    "        \n",
    "\n",
    "    def _binary_cross_entropy(self, y: ArrayLike, y_hat: ArrayLike) -> float:\n",
    "        \"\"\"\n",
    "        Binary cross entropy loss function.\n",
    "\n",
    "        Args:\n",
    "            y_hat: ArrayLike\n",
    "                Predicted output.\n",
    "            y: ArrayLike\n",
    "                Ground truth output.\n",
    "\n",
    "        Returns:\n",
    "            loss: float\n",
    "                Average loss over mini-batch.\n",
    "        \"\"\"\n",
    "        y_hat[y_hat == 0] = 0.0001\n",
    "        y_hat[y_hat == 1] = 0.9999\n",
    "        term1 = y * np.log(y_hat)\n",
    "        term2 = (1 - y) * np.log(1 - y_hat)\n",
    "        return -np.mean(term1 + term2)\n",
    "\n",
    "    def _binary_cross_entropy_backprop(self, y: ArrayLike, y_hat: ArrayLike) -> ArrayLike:\n",
    "        \"\"\"\n",
    "        Binary cross entropy loss function derivative.\n",
    "\n",
    "        Args:\n",
    "            y_hat: ArrayLike\n",
    "                Predicted output.\n",
    "            y: ArrayLike\n",
    "                Ground truth output.\n",
    "\n",
    "        Returns:\n",
    "            dA: ArrayLike\n",
    "                partial derivative of loss with respect to A matrix.\n",
    "        \"\"\"\n",
    "        y_hat[y_hat == 0] = 0.0001\n",
    "        y_hat[y_hat == 1] = 0.9999\n",
    "        num = y_hat - y\n",
    "        den = y_hat * (1 - y_hat)\n",
    "        dJ_dAcurr = num/den\n",
    "        \n",
    "        return dJ_dAcurr\n",
    "\n",
    "    def _mean_squared_error(self, y: ArrayLike, y_hat: ArrayLike) -> float:\n",
    "        \"\"\"\n",
    "        Mean squared error loss.\n",
    "\n",
    "        Args:\n",
    "            y: ArrayLike\n",
    "                Ground truth output.\n",
    "            y_hat: ArrayLike\n",
    "                Predicted output.\n",
    "\n",
    "        Returns:\n",
    "            loss: float\n",
    "                Average loss of mini-batch.\n",
    "        \"\"\"\n",
    "        return np.mean(np.square(y - y_hat))\n",
    "\n",
    "    def _mean_squared_error_backprop(self, y: ArrayLike, y_hat: ArrayLike) -> ArrayLike:\n",
    "        \"\"\"\n",
    "        Mean square error loss derivative.\n",
    "\n",
    "        Args:\n",
    "            y_hat: ArrayLike\n",
    "                Predicted output.\n",
    "            y: ArrayLike\n",
    "                Ground truth output.\n",
    "\n",
    "        Returns:\n",
    "            dA: ArrayLike\n",
    "                partial derivative of loss with respect to A matrix.\n",
    "        \"\"\"\n",
    "        return -2 * (y - y_hat) / y.shape[0]\n",
    "\n",
    "    def _loss_function(self, y: ArrayLike, y_hat: ArrayLike) -> float:\n",
    "        \"\"\"\n",
    "        Loss function, computes loss given y_hat and y. This function is\n",
    "        here for the case where someone would want to write more loss\n",
    "        functions than just binary cross entropy.\n",
    "\n",
    "        Args:\n",
    "            y: ArrayLike\n",
    "                Ground truth output.\n",
    "            y_hat: ArrayLike\n",
    "                Predicted output.\n",
    "        Returns:\n",
    "            loss: float\n",
    "                Average loss of mini-batch.\n",
    "        \"\"\"\n",
    "        pass\n",
    "\n",
    "    def _loss_function_backprop(self, y: ArrayLike, y_hat: ArrayLike) -> ArrayLike:\n",
    "        \"\"\"\n",
    "        This function performs the derivative of the loss function with respect\n",
    "        to the loss itself.\n",
    "        Args:\n",
    "            y (array-like): Ground truth output.\n",
    "            y_hat (array-like): Predicted output.\n",
    "        Returns:\n",
    "            dA (array-like): partial derivative of loss with respect\n",
    "                to A matrix.\n",
    "        \"\"\"\n",
    "        pass"
   ]
  },
  {
   "cell_type": "code",
   "execution_count": 590,
   "id": "20c71faa",
   "metadata": {},
   "outputs": [],
   "source": [
    "layers = [{'input_dim': 64, 'output_dim': 16, 'activation': 'sigmoid'}, \n",
    "          {'input_dim': 16, 'output_dim': 64, 'activation': 'relu'}]"
   ]
  },
  {
   "cell_type": "code",
   "execution_count": 591,
   "id": "f83b4143",
   "metadata": {},
   "outputs": [],
   "source": [
    "nn = NeuralNetwork(layers, lr = 0.05, seed = 0, batch_size = 100, epochs = 10, loss_function = \"MSE\")"
   ]
  },
  {
   "cell_type": "code",
   "execution_count": 587,
   "id": "6b933e4c",
   "metadata": {
    "scrolled": true
   },
   "outputs": [],
   "source": [
    "train_loss, val_loss = nn.fit(X_train, X_train, X_test, X_test)"
   ]
  },
  {
   "cell_type": "code",
   "execution_count": 588,
   "id": "204cc238",
   "metadata": {},
   "outputs": [
    {
     "data": {
      "text/plain": [
       "[<matplotlib.lines.Line2D at 0x7fbd90290a30>]"
      ]
     },
     "execution_count": 588,
     "metadata": {},
     "output_type": "execute_result"
    },
    {
     "data": {
      "image/png": "[encoded data removed]",
      "text/plain": [
       "<Figure size 432x288 with 1 Axes>"
      ]
     },
     "metadata": {
      "needs_background": "light"
     },
     "output_type": "display_data"
    }
   ],
   "source": [
    "plt.plot(range(10), train_loss)"
   ]
  },
  {
   "cell_type": "code",
   "execution_count": 574,
   "id": "787e063b",
   "metadata": {},
   "outputs": [],
   "source": [
    "out, _ = nn.forward(X_train)"
   ]
  },
  {
   "cell_type": "code",
   "execution_count": 575,
   "id": "9d2a8cb9",
   "metadata": {},
   "outputs": [
    {
     "data": {
      "text/plain": [
       "<matplotlib.image.AxesImage at 0x7fbdd02cc190>"
      ]
     },
     "execution_count": 575,
     "metadata": {},
     "output_type": "execute_result"
    },
    {
     "data": {
      "text/plain": [
       "<Figure size 432x288 with 0 Axes>"
      ]
     },
     "metadata": {},
     "output_type": "display_data"
    },
    {
     "data": {
      "image/png": "[encoded data removed]",
      "text/plain": [
       "<Figure size 288x288 with 1 Axes>"
      ]
     },
     "metadata": {
      "needs_background": "light"
     },
     "output_type": "display_data"
    }
   ],
   "source": [
    "plt.gray()\n",
    "plt.matshow(out[0].reshape((8,8)))"
   ]
  },
  {
   "cell_type": "code",
   "execution_count": 576,
   "id": "76ee9b74",
   "metadata": {},
   "outputs": [
    {
     "data": {
      "text/plain": [
       "<matplotlib.image.AxesImage at 0x7fbd80949040>"
      ]
     },
     "execution_count": 576,
     "metadata": {},
     "output_type": "execute_result"
    },
    {
     "data": {
      "text/plain": [
       "<Figure size 432x288 with 0 Axes>"
      ]
     },
     "metadata": {},
     "output_type": "display_data"
    },
    {
     "data": {
      "image/png": "[encoded data removed]",
      "text/plain": [
       "<Figure size 288x288 with 1 Axes>"
      ]
     },
     "metadata": {
      "needs_background": "light"
     },
     "output_type": "display_data"
    }
   ],
   "source": [
    "plt.gray()\n",
    "plt.matshow(X_train[0].reshape((8,8)))"
   ]
  },
  {
   "cell_type": "code",
   "execution_count": 116,
   "id": "c3a6cdb6",
   "metadata": {},
   "outputs": [],
   "source": [
    "from sklearn.datasets import load_digits\n",
    "digits = load_digits()"
   ]
  },
  {
   "cell_type": "code",
   "execution_count": 122,
   "id": "96897bb8",
   "metadata": {},
   "outputs": [],
   "source": [
    "from sklearn.model_selection import train_test_split"
   ]
  },
  {
   "cell_type": "code",
   "execution_count": 123,
   "id": "e402fcc0",
   "metadata": {},
   "outputs": [],
   "source": [
    "X = digits['data']\n",
    "y = digits['target']"
   ]
  },
  {
   "cell_type": "code",
   "execution_count": 124,
   "id": "36654446",
   "metadata": {},
   "outputs": [],
   "source": [
    "X_train, X_test, y_train, y_test = train_test_split(X, y, test_size=0.33, random_state=42)"
   ]
  },
  {
   "cell_type": "code",
   "execution_count": 129,
   "id": "fbb48e4f",
   "metadata": {},
   "outputs": [],
   "source": [
    "import matplotlib.pyplot as plt"
   ]
  },
  {
   "cell_type": "code",
   "execution_count": 132,
   "id": "70379b3b",
   "metadata": {
    "scrolled": false
   },
   "outputs": [
    {
     "data": {
      "text/plain": [
       "<matplotlib.image.AxesImage at 0x7fbd804ef6d0>"
      ]
     },
     "execution_count": 132,
     "metadata": {},
     "output_type": "execute_result"
    },
    {
     "data": {
      "text/plain": [
       "<Figure size 432x288 with 0 Axes>"
      ]
     },
     "metadata": {},
     "output_type": "display_data"
    },
    {
     "data": {
      "image/png": "[encoded data removed]",
      "text/plain": [
       "<Figure size 288x288 with 1 Axes>"
      ]
     },
     "metadata": {
      "needs_background": "light"
     },
     "output_type": "display_data"
    }
   ],
   "source": [
    "plt.gray()\n",
    "plt.matshow(digits.images[0])"
   ]
  },
  {
   "cell_type": "code",
   "execution_count": 72,
   "id": "ad03c746",
   "metadata": {},
   "outputs": [],
   "source": [
    "y = np.array([[0.]])\n",
    "y_hat = np.array([[0.5]])"
   ]
  },
  {
   "cell_type": "code",
   "execution_count": 67,
   "id": "bbf51464",
   "metadata": {},
   "outputs": [
    {
     "data": {
      "text/plain": [
       "array([[0.5]])"
      ]
     },
     "execution_count": 67,
     "metadata": {},
     "output_type": "execute_result"
    }
   ],
   "source": [
    "y_hat"
   ]
  },
  {
   "cell_type": "code",
   "execution_count": 68,
   "id": "e7008bf8",
   "metadata": {},
   "outputs": [],
   "source": [
    "y_hat[y_hat == 0] = 0.0001\n",
    "y_hat[y_hat == 1] = 0.9999\n",
    "term1 = y * np.log(y_hat)\n",
    "#print(f'_binary_cross_entropy: term1 shape is {term1.shape}')\n",
    "term2 = (1 - y) * np.log(1 - y_hat)\n",
    "#print(f'_binary_cross_entropy: term2 shape is {term2.shape}')\n",
    "bce = -np.mean(term1 + term2)\n"
   ]
  },
  {
   "cell_type": "code",
   "execution_count": 69,
   "id": "63dfcb58",
   "metadata": {},
   "outputs": [
    {
     "data": {
      "text/plain": [
       "0.6931471805599453"
      ]
     },
     "execution_count": 69,
     "metadata": {},
     "output_type": "execute_result"
    }
   ],
   "source": [
    "bce"
   ]
  },
  {
   "cell_type": "code",
   "execution_count": 63,
   "id": "f72dbccb",
   "metadata": {},
   "outputs": [
    {
     "data": {
      "text/plain": [
       "array([[-0.69314718]])"
      ]
     },
     "execution_count": 63,
     "metadata": {},
     "output_type": "execute_result"
    }
   ],
   "source": [
    "term1"
   ]
  },
  {
   "cell_type": "code",
   "execution_count": 64,
   "id": "800c192c",
   "metadata": {},
   "outputs": [
    {
     "data": {
      "text/plain": [
       "array([[-0.]])"
      ]
     },
     "execution_count": 64,
     "metadata": {},
     "output_type": "execute_result"
    }
   ],
   "source": [
    "term2"
   ]
  },
  {
   "cell_type": "code",
   "execution_count": 73,
   "id": "516caa9b",
   "metadata": {},
   "outputs": [],
   "source": [
    "num = y_hat - y\n",
    "den = y_hat * (1 - y_hat)"
   ]
  },
  {
   "cell_type": "code",
   "execution_count": 74,
   "id": "dedbc7a4",
   "metadata": {},
   "outputs": [
    {
     "data": {
      "text/plain": [
       "array([[2.]])"
      ]
     },
     "execution_count": 74,
     "metadata": {},
     "output_type": "execute_result"
    }
   ],
   "source": [
    "num/den"
   ]
  },
  {
   "cell_type": "code",
   "execution_count": null,
   "id": "63c74f3d",
   "metadata": {},
   "outputs": [],
   "source": []
  }
 ],
 "metadata": {
  "kernelspec": {
   "display_name": "Python 3 (ipykernel)",
   "language": "python",
   "name": "python3"
  },
  "language_info": {
   "codemirror_mode": {
    "name": "ipython",
    "version": 3
   },
   "file_extension": ".py",
   "mimetype": "text/x-python",
   "name": "python",
   "nbconvert_exporter": "python",
   "pygments_lexer": "ipython3",
   "version": "3.8.12"
  }
 },
 "nbformat": 4,
 "nbformat_minor": 5
}
